{
 "cells": [
  {
   "cell_type": "markdown",
   "metadata": {},
   "source": [
    "# Widgets"
   ]
  },
  {
   "cell_type": "markdown",
   "metadata": {},
   "source": [
    "ipywidgets are interactive HTML widgets for Jupyter notebooks and the IPython kernel.\n",
    "Notebooks come alive when interactive widgets are used. Users gain control of their data and can visualize changes in the data.\n",
    "\n",
    "They are eventful python objects that have a representation in the browser, often as a control like a slider, textbox, etc."
   ]
  },
  {
   "cell_type": "code",
   "execution_count": 31,
   "metadata": {},
   "outputs": [],
   "source": [
    "import ipywidgets as widgets"
   ]
  },
  {
   "cell_type": "markdown",
   "metadata": {},
   "source": [
    "## Installation"
   ]
  },
  {
   "cell_type": "markdown",
   "metadata": {},
   "source": [
    "1. With pip"
   ]
  },
  {
   "cell_type": "markdown",
   "metadata": {},
   "source": [
    "```pip install ipywidgets\n",
    "jupyter nbextension enable --py widgetsnbextension```"
   ]
  },
  {
   "cell_type": "markdown",
   "metadata": {},
   "source": [
    "2. With conda"
   ]
  },
  {
   "cell_type": "markdown",
   "metadata": {},
   "source": [
    "``` conda install -c conda-forge ipywidgets ```"
   ]
  },
  {
   "cell_type": "markdown",
   "metadata": {},
   "source": [
    "## Usage"
   ]
  },
  {
   "cell_type": "markdown",
   "metadata": {},
   "source": [
    "### Interact fn"
   ]
  },
  {
   "cell_type": "code",
   "execution_count": 1,
   "metadata": {},
   "outputs": [],
   "source": [
    "from __future__ import print_function\n",
    "from ipywidgets import interact, interactive, fixed, interact_manual"
   ]
  },
  {
   "cell_type": "markdown",
   "metadata": {},
   "source": [
    "1. ```interact``` function creates UI controls"
   ]
  },
  {
   "cell_type": "markdown",
   "metadata": {},
   "source": [
    "```python\n",
    "interact()\n",
    "```"
   ]
  },
  {
   "cell_type": "markdown",
   "metadata": {},
   "source": [
    "2. control a function argument dynamically"
   ]
  },
  {
   "cell_type": "code",
   "execution_count": 29,
   "metadata": {},
   "outputs": [],
   "source": [
    "def fn(h, q):\n",
    "    print(h,q)\n",
    "    return h, q"
   ]
  },
  {
   "cell_type": "code",
   "execution_count": 5,
   "metadata": {
    "scrolled": true
   },
   "outputs": [
    {
     "data": {
      "application/vnd.jupyter.widget-view+json": {
       "model_id": "bdebd98a54fe452c8ee877cadde532b2",
       "version_major": 2,
       "version_minor": 0
      },
      "text/plain": [
       "interactive(children=(IntSlider(value=5, description='h', max=15, min=-5), Output()), _dom_classes=('widget-in…"
      ]
     },
     "metadata": {},
     "output_type": "display_data"
    },
    {
     "data": {
      "text/plain": [
       "<function __main__.fn(h, q)>"
      ]
     },
     "execution_count": 5,
     "metadata": {},
     "output_type": "execute_result"
    }
   ],
   "source": [
    "interact(fn, h=5, q=fixed(20))"
   ]
  },
  {
   "cell_type": "code",
   "execution_count": 7,
   "metadata": {},
   "outputs": [
    {
     "data": {
      "application/vnd.jupyter.widget-view+json": {
       "model_id": "11a5a06b661b44ceb99e2d48d04602b1",
       "version_major": 2,
       "version_minor": 0
      },
      "text/plain": [
       "interactive(children=(Dropdown(description='choices', options=('apple', 'orange', 'pineapple'), value='apple')…"
      ]
     },
     "metadata": {},
     "output_type": "display_data"
    }
   ],
   "source": [
    "@interact(num = (0,100))\n",
    "def fn2 (choices = ['apple','orange','pineapple'], num = 50):\n",
    "    return choices, num"
   ]
  },
  {
   "cell_type": "code",
   "execution_count": 9,
   "metadata": {},
   "outputs": [
    {
     "data": {
      "application/vnd.jupyter.widget-view+json": {
       "model_id": "2661a8a00da0482d8ae165f04dccbf55",
       "version_major": 2,
       "version_minor": 0
      },
      "text/plain": [
       "interactive(children=(Dropdown(description='num', options=(('five', 5), ('twenty', 20)), value=5), Output()), …"
      ]
     },
     "metadata": {},
     "output_type": "display_data"
    }
   ],
   "source": [
    "@interact(num = [('five',5),('twenty',20)])\n",
    "def fn2 (num):\n",
    "    return 2*num"
   ]
  },
  {
   "cell_type": "markdown",
   "metadata": {},
   "source": [
    "2. ```manual```: restrict execution to on-demand"
   ]
  },
  {
   "cell_type": "code",
   "execution_count": 30,
   "metadata": {},
   "outputs": [
    {
     "data": {
      "application/vnd.jupyter.widget-view+json": {
       "model_id": "b8269cfe0df54fea89fa1ef7d8b2b961",
       "version_major": 2,
       "version_minor": 0
      },
      "text/plain": [
       "interactive(children=(IntSlider(value=5, description='h', max=15, min=-5), Button(description='Run Interact', …"
      ]
     },
     "metadata": {},
     "output_type": "display_data"
    }
   ],
   "source": [
    "interactive(fn, {'manual':True}, h=5, q=fixed(20))"
   ]
  },
  {
   "cell_type": "markdown",
   "metadata": {},
   "source": [
    "### Widget properties & keys"
   ]
  },
  {
   "cell_type": "code",
   "execution_count": 32,
   "metadata": {},
   "outputs": [
    {
     "data": {
      "application/vnd.jupyter.widget-view+json": {
       "model_id": "4cb23a8458804d2897b6cde847ff9e9f",
       "version_major": 2,
       "version_minor": 0
      },
      "text/plain": [
       "IntSlider(value=0)"
      ]
     },
     "metadata": {},
     "output_type": "display_data"
    }
   ],
   "source": [
    "w = widgets.IntSlider()\n",
    "display(w)"
   ]
  },
  {
   "cell_type": "code",
   "execution_count": 33,
   "metadata": {},
   "outputs": [
    {
     "data": {
      "text/plain": [
       "0"
      ]
     },
     "execution_count": 33,
     "metadata": {},
     "output_type": "execute_result"
    }
   ],
   "source": [
    "w.value"
   ]
  },
  {
   "cell_type": "code",
   "execution_count": 34,
   "metadata": {},
   "outputs": [],
   "source": [
    "w.value = 100"
   ]
  },
  {
   "cell_type": "code",
   "execution_count": 36,
   "metadata": {},
   "outputs": [
    {
     "data": {
      "application/vnd.jupyter.widget-view+json": {
       "model_id": "28011f5b57894938b7d1aca93f948342",
       "version_major": 2,
       "version_minor": 0
      },
      "text/plain": [
       "Text(value='Hello World!')"
      ]
     },
     "metadata": {},
     "output_type": "display_data"
    }
   ],
   "source": [
    "widgets.Text(value='Hello World!', disabled=False)"
   ]
  },
  {
   "cell_type": "markdown",
   "metadata": {},
   "source": [
    "### Linking 2 widgets"
   ]
  },
  {
   "cell_type": "code",
   "execution_count": 41,
   "metadata": {},
   "outputs": [
    {
     "data": {
      "application/vnd.jupyter.widget-view+json": {
       "model_id": "46b5ea51f09e4784a4722c47d6eadbaa",
       "version_major": 2,
       "version_minor": 0
      },
      "text/plain": [
       "FloatText(value=0.0)"
      ]
     },
     "metadata": {},
     "output_type": "display_data"
    },
    {
     "data": {
      "application/vnd.jupyter.widget-view+json": {
       "model_id": "5adb10d8c4144da78e9d9089b97d3767",
       "version_major": 2,
       "version_minor": 0
      },
      "text/plain": [
       "FloatSlider(value=0.0)"
      ]
     },
     "metadata": {},
     "output_type": "display_data"
    }
   ],
   "source": [
    "a = widgets.FloatText()\n",
    "b = widgets.FloatSlider()\n",
    "display(a,b)\n",
    "\n",
    "mylink = widgets.jslink((a, 'value'), (b, 'value'))"
   ]
  },
  {
   "cell_type": "code",
   "execution_count": 40,
   "metadata": {},
   "outputs": [],
   "source": [
    "#mylink.unlink()"
   ]
  },
  {
   "cell_type": "markdown",
   "metadata": {},
   "source": [
    "### [A list of different widgets](https://ipywidgets.readthedocs.io/en/latest/examples/Widget%20List.html#)\n"
   ]
  },
  {
   "cell_type": "markdown",
   "metadata": {},
   "source": [
    "#### Widget examples:"
   ]
  },
  {
   "cell_type": "markdown",
   "metadata": {},
   "source": [
    "1. Numeric\n",
    "2. Text\n",
    "3. Boolean\n",
    "4. Selection (dropdown, radio buttons, etc)\n",
    "5. Image\n",
    "6. Button\n",
    "7. Out\n",
    "8. Upload\n",
    "9. Layouts and containers"
   ]
  },
  {
   "cell_type": "code",
   "execution_count": null,
   "metadata": {},
   "outputs": [],
   "source": []
  }
 ],
 "metadata": {
  "kernelspec": {
   "display_name": "Python 3",
   "language": "python",
   "name": "python3"
  },
  "language_info": {
   "codemirror_mode": {
    "name": "ipython",
    "version": 3
   },
   "file_extension": ".py",
   "mimetype": "text/x-python",
   "name": "python",
   "nbconvert_exporter": "python",
   "pygments_lexer": "ipython3",
   "version": "3.7.1"
  },
  "widgets": {
   "application/vnd.jupyter.widget-state+json": {
    "state": {
     "060a62e127604df989753f52dfad9e41": {
      "model_module": "@jupyter-widgets/output",
      "model_module_version": "1.0.0",
      "model_name": "OutputModel",
      "state": {
       "layout": "IPY_MODEL_8b589522708d4fea92c04c4087d2729e"
      }
     },
     "080c69e338474f09b8f9374326363425": {
      "model_module": "@jupyter-widgets/base",
      "model_module_version": "1.2.0",
      "model_name": "LayoutModel",
      "state": {}
     },
     "082d3eed0ff04c5c938b8b48b2aed2d8": {
      "model_module": "@jupyter-widgets/base",
      "model_module_version": "1.2.0",
      "model_name": "LayoutModel",
      "state": {}
     },
     "085684a9e08647178efcb6a8d6855a52": {
      "model_module": "@jupyter-widgets/controls",
      "model_module_version": "1.5.0",
      "model_name": "IntSliderModel",
      "state": {
       "description": "h",
       "layout": "IPY_MODEL_23538a38dc614ffd816722ec4bc41e5f",
       "max": 15,
       "min": -5,
       "style": "IPY_MODEL_bb762bae4d3249ffa6cb7cfb5eea5156",
       "value": 15
      }
     },
     "0963d5b2b849483d983bcb0696e8db9d": {
      "model_module": "@jupyter-widgets/output",
      "model_module_version": "1.0.0",
      "model_name": "OutputModel",
      "state": {
       "layout": "IPY_MODEL_a1053365cc88474c970364413ed338f0"
      }
     },
     "0a0e43e2289240ce84c6100613687d0d": {
      "model_module": "@jupyter-widgets/base",
      "model_module_version": "1.2.0",
      "model_name": "LayoutModel",
      "state": {}
     },
     "0b3be5bb120c4c55a79bd8d64e113e8a": {
      "model_module": "@jupyter-widgets/base",
      "model_module_version": "1.2.0",
      "model_name": "LayoutModel",
      "state": {}
     },
     "0c24d5cbebfa4c3ea4cb9700e9c6e8ca": {
      "model_module": "@jupyter-widgets/controls",
      "model_module_version": "1.5.0",
      "model_name": "SliderStyleModel",
      "state": {
       "description_width": ""
      }
     },
     "0d616a4a6c5b4f59ac46ddb14a29f846": {
      "model_module": "@jupyter-widgets/controls",
      "model_module_version": "1.5.0",
      "model_name": "IntSliderModel",
      "state": {
       "description": "h",
       "layout": "IPY_MODEL_292afc4b528649b1bb21a1b173df1c98",
       "max": 15,
       "min": -5,
       "style": "IPY_MODEL_fd58c1945a3740c4b00bb4d10f8a560f",
       "value": 5
      }
     },
     "0eb136befada40508c495ee03412701b": {
      "model_module": "@jupyter-widgets/controls",
      "model_module_version": "1.5.0",
      "model_name": "TextModel",
      "state": {
       "disabled": true,
       "layout": "IPY_MODEL_4ad8b21144784028a442873ba695294c",
       "style": "IPY_MODEL_780c98949342461fa2724619ca623b7c",
       "value": "Hello World!"
      }
     },
     "10bb0564327446e29942557c077bdc9c": {
      "model_module": "@jupyter-widgets/controls",
      "model_module_version": "1.5.0",
      "model_name": "IntSliderModel",
      "state": {
       "description": "h",
       "layout": "IPY_MODEL_082d3eed0ff04c5c938b8b48b2aed2d8",
       "max": 15,
       "min": -5,
       "style": "IPY_MODEL_64d9601ae5f14434a3a95fcc5a72101a"
      }
     },
     "11a5a06b661b44ceb99e2d48d04602b1": {
      "model_module": "@jupyter-widgets/controls",
      "model_module_version": "1.5.0",
      "model_name": "VBoxModel",
      "state": {
       "_dom_classes": [
        "widget-interact"
       ],
       "children": [
        "IPY_MODEL_c63a4200b8ba4dd5ba5f9c3af7e35cd4",
        "IPY_MODEL_2f55a342611a4036915c3ccffa6c6e40",
        "IPY_MODEL_88b6e9e6f4b94c1bb6b9d1bf3d6af65c"
       ],
       "layout": "IPY_MODEL_7acf5bb3a05740168afee2d13458665f"
      }
     },
     "1247c3d51aa44b89b3474bb892988a22": {
      "model_module": "@jupyter-widgets/controls",
      "model_module_version": "1.5.0",
      "model_name": "ButtonStyleModel",
      "state": {}
     },
     "13e05d18b41f4c1ab934717c5e892510": {
      "model_module": "@jupyter-widgets/controls",
      "model_module_version": "1.5.0",
      "model_name": "SliderStyleModel",
      "state": {
       "description_width": ""
      }
     },
     "14cadfc51aed497f8a286fa03b353416": {
      "model_module": "@jupyter-widgets/base",
      "model_module_version": "1.2.0",
      "model_name": "LayoutModel",
      "state": {}
     },
     "14fb6bb115c34949be6a38cd40554629": {
      "model_module": "@jupyter-widgets/base",
      "model_module_version": "1.2.0",
      "model_name": "LayoutModel",
      "state": {}
     },
     "1528a7c31a1347f484995ab53fa150da": {
      "model_module": "@jupyter-widgets/base",
      "model_module_version": "1.2.0",
      "model_name": "LayoutModel",
      "state": {}
     },
     "163b5a2de6fb41dcb80b27ceba2ffee0": {
      "model_module": "@jupyter-widgets/base",
      "model_module_version": "1.2.0",
      "model_name": "LayoutModel",
      "state": {}
     },
     "16d8d4041b1244839a89f21c5e9e5cd4": {
      "model_module": "@jupyter-widgets/output",
      "model_module_version": "1.0.0",
      "model_name": "OutputModel",
      "state": {
       "layout": "IPY_MODEL_8f2087c2c2534917a48b78cfa6d2d67d"
      }
     },
     "170adaa3953349f485c6a1f18da72c11": {
      "model_module": "@jupyter-widgets/base",
      "model_module_version": "1.2.0",
      "model_name": "LayoutModel",
      "state": {}
     },
     "1730c0df0a8140f49b60ab3b8d0247b4": {
      "model_module": "@jupyter-widgets/base",
      "model_module_version": "1.2.0",
      "model_name": "LayoutModel",
      "state": {}
     },
     "176b3207f20a465d959aa6161830d340": {
      "model_module": "@jupyter-widgets/controls",
      "model_module_version": "1.5.0",
      "model_name": "ButtonModel",
      "state": {
       "description": "Run Interact",
       "layout": "IPY_MODEL_1730c0df0a8140f49b60ab3b8d0247b4",
       "style": "IPY_MODEL_797e03fc3f004ca791fb6b8d978d5183"
      }
     },
     "1b4ccdd2e4b541e8ac9c024495fd3f28": {
      "model_module": "@jupyter-widgets/output",
      "model_module_version": "1.0.0",
      "model_name": "OutputModel",
      "state": {
       "layout": "IPY_MODEL_308c556a22b1489a9cf91d9c71179f34",
       "outputs": [
        {
         "data": {
          "text/plain": "('orange', -6)"
         },
         "metadata": {},
         "output_type": "display_data"
        }
       ]
      }
     },
     "1c7dbd58a2a34d8d959935fca8b13d43": {
      "model_module": "@jupyter-widgets/base",
      "model_module_version": "1.2.0",
      "model_name": "LayoutModel",
      "state": {}
     },
     "214c9732e63943efb8f13c5edb57b86b": {
      "model_module": "@jupyter-widgets/output",
      "model_module_version": "1.0.0",
      "model_name": "OutputModel",
      "state": {
       "layout": "IPY_MODEL_6fde4de7c888434c8b8e23af29ba47d8",
       "outputs": [
        {
         "name": "stdout",
         "output_type": "stream",
         "text": "11 20\n"
        }
       ]
      }
     },
     "21b0d938a9fe4a81a1f3874d4e8c5858": {
      "model_module": "@jupyter-widgets/output",
      "model_module_version": "1.0.0",
      "model_name": "OutputModel",
      "state": {
       "layout": "IPY_MODEL_26f6aa6c8fe24cb2af0b3c63b1077e0a",
       "outputs": [
        {
         "ename": "TypeError",
         "evalue": "'dict' object is not callable",
         "output_type": "error",
         "traceback": [
          "\u001b[1;31m-------------------------------------------------\u001b[0m",
          "\u001b[1;31mTypeError\u001b[0m       Traceback (most recent call last)",
          "\u001b[1;32mc:\\users\\merna\\appdata\\local\\programs\\python\\python37-32\\lib\\site-packages\\ipywidgets\\widgets\\interaction.py\u001b[0m in \u001b[0;36mupdate\u001b[1;34m(self, *args)\u001b[0m\n\u001b[0;32m    254\u001b[0m                     \u001b[0mvalue\u001b[0m \u001b[1;33m=\u001b[0m \u001b[0mwidget\u001b[0m\u001b[1;33m.\u001b[0m\u001b[0mget_interact_value\u001b[0m\u001b[1;33m(\u001b[0m\u001b[1;33m)\u001b[0m\u001b[1;33m\u001b[0m\u001b[1;33m\u001b[0m\u001b[0m\n\u001b[0;32m    255\u001b[0m                     \u001b[0mself\u001b[0m\u001b[1;33m.\u001b[0m\u001b[0mkwargs\u001b[0m\u001b[1;33m[\u001b[0m\u001b[0mwidget\u001b[0m\u001b[1;33m.\u001b[0m\u001b[0m_kwarg\u001b[0m\u001b[1;33m]\u001b[0m \u001b[1;33m=\u001b[0m \u001b[0mvalue\u001b[0m\u001b[1;33m\u001b[0m\u001b[1;33m\u001b[0m\u001b[0m\n\u001b[1;32m--> 256\u001b[1;33m                 \u001b[0mself\u001b[0m\u001b[1;33m.\u001b[0m\u001b[0mresult\u001b[0m \u001b[1;33m=\u001b[0m \u001b[0mself\u001b[0m\u001b[1;33m.\u001b[0m\u001b[0mf\u001b[0m\u001b[1;33m(\u001b[0m\u001b[1;33m**\u001b[0m\u001b[0mself\u001b[0m\u001b[1;33m.\u001b[0m\u001b[0mkwargs\u001b[0m\u001b[1;33m)\u001b[0m\u001b[1;33m\u001b[0m\u001b[1;33m\u001b[0m\u001b[0m\n\u001b[0m\u001b[0;32m    257\u001b[0m                 \u001b[0mshow_inline_matplotlib_plots\u001b[0m\u001b[1;33m(\u001b[0m\u001b[1;33m)\u001b[0m\u001b[1;33m\u001b[0m\u001b[1;33m\u001b[0m\u001b[0m\n\u001b[0;32m    258\u001b[0m                 \u001b[1;32mif\u001b[0m \u001b[0mself\u001b[0m\u001b[1;33m.\u001b[0m\u001b[0mauto_display\u001b[0m \u001b[1;32mand\u001b[0m \u001b[0mself\u001b[0m\u001b[1;33m.\u001b[0m\u001b[0mresult\u001b[0m \u001b[1;32mis\u001b[0m \u001b[1;32mnot\u001b[0m \u001b[1;32mNone\u001b[0m\u001b[1;33m:\u001b[0m\u001b[1;33m\u001b[0m\u001b[1;33m\u001b[0m\u001b[0m\n",
          "\u001b[1;31mTypeError\u001b[0m: 'dict' object is not callable"
         ]
        }
       ]
      }
     },
     "23538a38dc614ffd816722ec4bc41e5f": {
      "model_module": "@jupyter-widgets/base",
      "model_module_version": "1.2.0",
      "model_name": "LayoutModel",
      "state": {}
     },
     "23c8b9efea6748d4ab842891a3a79f47": {
      "model_module": "@jupyter-widgets/base",
      "model_module_version": "1.2.0",
      "model_name": "LayoutModel",
      "state": {}
     },
     "2411626c36b841f6b43295b100e95822": {
      "model_module": "@jupyter-widgets/base",
      "model_module_version": "1.2.0",
      "model_name": "LayoutModel",
      "state": {}
     },
     "24e2e14096994b589e11b2c4bee458ba": {
      "model_module": "@jupyter-widgets/controls",
      "model_module_version": "1.5.0",
      "model_name": "ButtonStyleModel",
      "state": {}
     },
     "2661a8a00da0482d8ae165f04dccbf55": {
      "model_module": "@jupyter-widgets/controls",
      "model_module_version": "1.5.0",
      "model_name": "VBoxModel",
      "state": {
       "_dom_classes": [
        "widget-interact"
       ],
       "children": [
        "IPY_MODEL_b68be128c62e4adfa365011fc107358f",
        "IPY_MODEL_bfdef127a90b4f4c8db051650e6e31eb"
       ],
       "layout": "IPY_MODEL_6d4edc2c5a874920a78a9fc293dfa5fc"
      }
     },
     "26f6aa6c8fe24cb2af0b3c63b1077e0a": {
      "model_module": "@jupyter-widgets/base",
      "model_module_version": "1.2.0",
      "model_name": "LayoutModel",
      "state": {}
     },
     "278c65fe57b6490cbc44a69de172b396": {
      "model_module": "@jupyter-widgets/controls",
      "model_module_version": "1.5.0",
      "model_name": "DescriptionStyleModel",
      "state": {
       "description_width": ""
      }
     },
     "27c09bfa653d40b0822671979b75b51a": {
      "model_module": "@jupyter-widgets/base",
      "model_module_version": "1.2.0",
      "model_name": "LayoutModel",
      "state": {}
     },
     "28011f5b57894938b7d1aca93f948342": {
      "model_module": "@jupyter-widgets/controls",
      "model_module_version": "1.5.0",
      "model_name": "TextModel",
      "state": {
       "layout": "IPY_MODEL_1528a7c31a1347f484995ab53fa150da",
       "style": "IPY_MODEL_776a8493666e4d90ada4f5f6612939c5",
       "value": "Hiiiiii"
      }
     },
     "28cdde5b6f7a4e699e4e361c8d062f36": {
      "model_module": "@jupyter-widgets/base",
      "model_module_version": "1.2.0",
      "model_name": "LayoutModel",
      "state": {}
     },
     "292afc4b528649b1bb21a1b173df1c98": {
      "model_module": "@jupyter-widgets/base",
      "model_module_version": "1.2.0",
      "model_name": "LayoutModel",
      "state": {}
     },
     "29c6ef3769254fa6a1597b3a4b3f2536": {
      "model_module": "@jupyter-widgets/base",
      "model_module_version": "1.2.0",
      "model_name": "LayoutModel",
      "state": {}
     },
     "2f55a342611a4036915c3ccffa6c6e40": {
      "model_module": "@jupyter-widgets/controls",
      "model_module_version": "1.5.0",
      "model_name": "IntSliderModel",
      "state": {
       "description": "num",
       "layout": "IPY_MODEL_1c7dbd58a2a34d8d959935fca8b13d43",
       "style": "IPY_MODEL_70f636e1b11144a3968422847d92159e",
       "value": 56
      }
     },
     "308c556a22b1489a9cf91d9c71179f34": {
      "model_module": "@jupyter-widgets/base",
      "model_module_version": "1.2.0",
      "model_name": "LayoutModel",
      "state": {}
     },
     "311985a7d3dc4335ba8fa7b8bafe8e7b": {
      "model_module": "@jupyter-widgets/controls",
      "model_module_version": "1.5.0",
      "model_name": "IntSliderModel",
      "state": {
       "description": "h",
       "layout": "IPY_MODEL_14cadfc51aed497f8a286fa03b353416",
       "max": 15,
       "min": -5,
       "style": "IPY_MODEL_93554065ebb24cf0aaf294dbb9032205",
       "value": 5
      }
     },
     "33be8e34eeb0402a8ed09813e3d06336": {
      "model_module": "@jupyter-widgets/controls",
      "model_module_version": "1.5.0",
      "model_name": "SliderStyleModel",
      "state": {
       "description_width": ""
      }
     },
     "3c2a2fe2189e46dd97a8c114474638da": {
      "model_module": "@jupyter-widgets/output",
      "model_module_version": "1.0.0",
      "model_name": "OutputModel",
      "state": {
       "layout": "IPY_MODEL_b1871cc498564f059a1615fbb56fc7ac"
      }
     },
     "3d15c2d04f26496fa9cfe3cfb16b728e": {
      "model_module": "@jupyter-widgets/controls",
      "model_module_version": "1.5.0",
      "model_name": "ButtonModel",
      "state": {
       "description": "Run Interact",
       "layout": "IPY_MODEL_0b3be5bb120c4c55a79bd8d64e113e8a",
       "style": "IPY_MODEL_24e2e14096994b589e11b2c4bee458ba"
      }
     },
     "3e30f0fce0d14175a7bb828f656705d1": {
      "model_module": "@jupyter-widgets/controls",
      "model_module_version": "1.5.0",
      "model_name": "ButtonModel",
      "state": {
       "description": "Run Interact",
       "layout": "IPY_MODEL_51844cf902c74cb593ebfae55c5ffa38",
       "style": "IPY_MODEL_8f9e19f1314e46909127755fe8e183d7"
      }
     },
     "424084f3774040498e4eb1db194abe73": {
      "model_module": "@jupyter-widgets/controls",
      "model_module_version": "1.5.0",
      "model_name": "ButtonModel",
      "state": {
       "description": "Run Interact",
       "layout": "IPY_MODEL_b50d15f9e71a40568ecaa526a9936fab",
       "style": "IPY_MODEL_fbc5792ae04548b0b72ce37f78acbc42"
      }
     },
     "42f8dffbc59c44ca8d261d14d0e15feb": {
      "model_module": "@jupyter-widgets/controls",
      "model_module_version": "1.5.0",
      "model_name": "FloatSliderModel",
      "state": {
       "layout": "IPY_MODEL_dfdda3bca2bc4be5aee4ed27f5a55054",
       "step": 0.1,
       "style": "IPY_MODEL_a0d529d109fd401a9346d51455fc999f",
       "value": 30.4
      }
     },
     "44b91dbdccb5436a944c322dddfd34d5": {
      "model_module": "@jupyter-widgets/controls",
      "model_module_version": "1.5.0",
      "model_name": "DescriptionStyleModel",
      "state": {
       "description_width": ""
      }
     },
     "4552c562837642d0b96e8e12e959ec58": {
      "model_module": "@jupyter-widgets/controls",
      "model_module_version": "1.5.0",
      "model_name": "DescriptionStyleModel",
      "state": {
       "description_width": ""
      }
     },
     "465b2e35c8974f58adc7e56084b9a12e": {
      "model_module": "@jupyter-widgets/base",
      "model_module_version": "1.2.0",
      "model_name": "LayoutModel",
      "state": {}
     },
     "46b5ea51f09e4784a4722c47d6eadbaa": {
      "model_module": "@jupyter-widgets/controls",
      "model_module_version": "1.5.0",
      "model_name": "FloatTextModel",
      "state": {
       "layout": "IPY_MODEL_27c09bfa653d40b0822671979b75b51a",
       "step": null,
       "style": "IPY_MODEL_4552c562837642d0b96e8e12e959ec58",
       "value": 52.5
      }
     },
     "47c7df06e8e94f1e8e76f3dffd1c1a5c": {
      "model_module": "@jupyter-widgets/controls",
      "model_module_version": "1.5.0",
      "model_name": "IntSliderModel",
      "state": {
       "description": "h",
       "layout": "IPY_MODEL_72c3f0c6075f44f0b314cb55d555322b",
       "max": 15,
       "min": -5,
       "style": "IPY_MODEL_eb06c331aa4f4ee0b4c787b3568126c9",
       "value": 5
      }
     },
     "482ea31b00d24369915d4675ce7f6060": {
      "model_module": "@jupyter-widgets/base",
      "model_module_version": "1.2.0",
      "model_name": "LayoutModel",
      "state": {}
     },
     "48b055b4abe44e088cff692f08e78f5c": {
      "model_module": "@jupyter-widgets/base",
      "model_module_version": "1.2.0",
      "model_name": "LayoutModel",
      "state": {}
     },
     "49b9c5fefe37476292413717f376ef1b": {
      "model_module": "@jupyter-widgets/output",
      "model_module_version": "1.0.0",
      "model_name": "OutputModel",
      "state": {
       "layout": "IPY_MODEL_83fa4bb0f7124a2ab2bf1656ba71d43f"
      }
     },
     "4ad8b21144784028a442873ba695294c": {
      "model_module": "@jupyter-widgets/base",
      "model_module_version": "1.2.0",
      "model_name": "LayoutModel",
      "state": {}
     },
     "4cb23a8458804d2897b6cde847ff9e9f": {
      "model_module": "@jupyter-widgets/controls",
      "model_module_version": "1.5.0",
      "model_name": "IntSliderModel",
      "state": {
       "layout": "IPY_MODEL_76888739b49b47229fef4b458612d6e5",
       "style": "IPY_MODEL_33be8e34eeb0402a8ed09813e3d06336",
       "value": 100
      }
     },
     "4cee6f895c484f9c8afae63cdcb98c93": {
      "model_module": "@jupyter-widgets/controls",
      "model_module_version": "1.5.0",
      "model_name": "DropdownModel",
      "state": {
       "_options_labels": [
        "five",
        "twenty"
       ],
       "description": "num",
       "index": 0,
       "layout": "IPY_MODEL_fc3a94304fe6434db412f1bf57032264",
       "style": "IPY_MODEL_44b91dbdccb5436a944c322dddfd34d5"
      }
     },
     "4f7d75b87909496dbe4b8ab52f09cc12": {
      "model_module": "@jupyter-widgets/base",
      "model_module_version": "1.2.0",
      "model_name": "LayoutModel",
      "state": {}
     },
     "51844cf902c74cb593ebfae55c5ffa38": {
      "model_module": "@jupyter-widgets/base",
      "model_module_version": "1.2.0",
      "model_name": "LayoutModel",
      "state": {}
     },
     "51d18b7f90da46ffb618ba6fb5b1b08c": {
      "model_module": "@jupyter-widgets/controls",
      "model_module_version": "1.5.0",
      "model_name": "DescriptionStyleModel",
      "state": {
       "description_width": ""
      }
     },
     "5935f61f48d7477298f420c9786fdab9": {
      "model_module": "@jupyter-widgets/controls",
      "model_module_version": "1.5.0",
      "model_name": "IntSliderModel",
      "state": {
       "description": "h",
       "layout": "IPY_MODEL_89c70d8bc152485ca1632b46e913a9ad",
       "max": 15,
       "min": -5,
       "style": "IPY_MODEL_b6e33092b0a14ca8897073f064b915a5",
       "value": 5
      }
     },
     "5a35cca5239f426b8d504921387c2b1d": {
      "model_module": "@jupyter-widgets/controls",
      "model_module_version": "1.5.0",
      "model_name": "SliderStyleModel",
      "state": {
       "description_width": ""
      }
     },
     "5a960de3a87f4170bf53f0a2bb0cdd63": {
      "model_module": "@jupyter-widgets/base",
      "model_module_version": "1.2.0",
      "model_name": "LayoutModel",
      "state": {}
     },
     "5adb10d8c4144da78e9d9089b97d3767": {
      "model_module": "@jupyter-widgets/controls",
      "model_module_version": "1.5.0",
      "model_name": "FloatSliderModel",
      "state": {
       "layout": "IPY_MODEL_465b2e35c8974f58adc7e56084b9a12e",
       "step": 0.1,
       "style": "IPY_MODEL_5a35cca5239f426b8d504921387c2b1d",
       "value": 52.5
      }
     },
     "5c51036d7eab4b7c8b8aa43c9bcf89eb": {
      "model_module": "@jupyter-widgets/controls",
      "model_module_version": "1.5.0",
      "model_name": "IntSliderModel",
      "state": {
       "description": "h",
       "layout": "IPY_MODEL_23c8b9efea6748d4ab842891a3a79f47",
       "max": 15,
       "min": -5,
       "style": "IPY_MODEL_92310f7060f04495ad09f09349df6dc4",
       "value": 5
      }
     },
     "621ea83229ad4fb6a59944ab4bcf2e14": {
      "model_module": "@jupyter-widgets/controls",
      "model_module_version": "1.5.0",
      "model_name": "VBoxModel",
      "state": {
       "_dom_classes": [
        "widget-interact"
       ],
       "children": [
        "IPY_MODEL_c23c97a4bb044a1a9cbaf02f66c00ea0",
        "IPY_MODEL_d5918d86d84c4b3d83d28ac7bf4f6bff",
        "IPY_MODEL_49b9c5fefe37476292413717f376ef1b"
       ],
       "layout": "IPY_MODEL_080c69e338474f09b8f9374326363425"
      }
     },
     "64d9601ae5f14434a3a95fcc5a72101a": {
      "model_module": "@jupyter-widgets/controls",
      "model_module_version": "1.5.0",
      "model_name": "SliderStyleModel",
      "state": {
       "description_width": ""
      }
     },
     "64db66e65b6349ba976c11fed2d7dfa1": {
      "model_module": "@jupyter-widgets/controls",
      "model_module_version": "1.5.0",
      "model_name": "DropdownModel",
      "state": {
       "_options_labels": [
        "five",
        "twenty"
       ],
       "description": "num",
       "index": 0,
       "layout": "IPY_MODEL_c9eeec18c6af422b8aa1546e8133b05b",
       "style": "IPY_MODEL_b7d126d9378744fa9a4f1f75aef00c22"
      }
     },
     "65465c79fadb4dd78fb0663894c50cac": {
      "model_module": "@jupyter-widgets/controls",
      "model_module_version": "1.5.0",
      "model_name": "ButtonModel",
      "state": {
       "description": "Run Interact",
       "layout": "IPY_MODEL_e066c76a357f4364a475747677c831cb",
       "style": "IPY_MODEL_ad3f8bc83e014db790584e080ce5871a"
      }
     },
     "66cccde0919f4e7fbbb3e6c7b83496c9": {
      "model_module": "@jupyter-widgets/controls",
      "model_module_version": "1.5.0",
      "model_name": "ButtonModel",
      "state": {
       "description": "Run Interact",
       "layout": "IPY_MODEL_28cdde5b6f7a4e699e4e361c8d062f36",
       "style": "IPY_MODEL_7e0e225f550644b293a615d7a2656c50"
      }
     },
     "66d03d97ad2343648fb9af67380d8b28": {
      "model_module": "@jupyter-widgets/base",
      "model_module_version": "1.2.0",
      "model_name": "LayoutModel",
      "state": {}
     },
     "6787638483194a488026f9599fc44bab": {
      "model_module": "@jupyter-widgets/base",
      "model_module_version": "1.2.0",
      "model_name": "LayoutModel",
      "state": {}
     },
     "68896a38de8f4dadaf9942ecc1a04aa9": {
      "model_module": "@jupyter-widgets/base",
      "model_module_version": "1.2.0",
      "model_name": "LayoutModel",
      "state": {}
     },
     "69c61cec24e94bf98ca1871314b20f2b": {
      "model_module": "@jupyter-widgets/controls",
      "model_module_version": "1.5.0",
      "model_name": "ButtonStyleModel",
      "state": {}
     },
     "6a35e741c2d74791a72c9a1068949804": {
      "model_module": "@jupyter-widgets/output",
      "model_module_version": "1.0.0",
      "model_name": "OutputModel",
      "state": {
       "layout": "IPY_MODEL_0a0e43e2289240ce84c6100613687d0d"
      }
     },
     "6cc496bc46a54f1888eb930645f611da": {
      "model_module": "@jupyter-widgets/controls",
      "model_module_version": "1.5.0",
      "model_name": "ButtonModel",
      "state": {
       "description": "Run Interact",
       "layout": "IPY_MODEL_ae966fea456d45e2a801c3aba89b049a",
       "style": "IPY_MODEL_cc8056146b4f489b88cf8dbb97bb719f"
      }
     },
     "6d4edc2c5a874920a78a9fc293dfa5fc": {
      "model_module": "@jupyter-widgets/base",
      "model_module_version": "1.2.0",
      "model_name": "LayoutModel",
      "state": {}
     },
     "6eee1e770e3d41829f8e2bf7188f4c30": {
      "model_module": "@jupyter-widgets/base",
      "model_module_version": "1.2.0",
      "model_name": "LayoutModel",
      "state": {}
     },
     "6fde4de7c888434c8b8e23af29ba47d8": {
      "model_module": "@jupyter-widgets/base",
      "model_module_version": "1.2.0",
      "model_name": "LayoutModel",
      "state": {}
     },
     "704272320ffb4f76ac3ddab743ee1426": {
      "model_module": "@jupyter-widgets/controls",
      "model_module_version": "1.5.0",
      "model_name": "SliderStyleModel",
      "state": {
       "description_width": ""
      }
     },
     "704c0d10af254be5a1c8731687a585b8": {
      "model_module": "@jupyter-widgets/base",
      "model_module_version": "1.2.0",
      "model_name": "LayoutModel",
      "state": {}
     },
     "70a12c0e58424ee1a3a4ef349791fba6": {
      "model_module": "@jupyter-widgets/controls",
      "model_module_version": "1.5.0",
      "model_name": "VBoxModel",
      "state": {
       "_dom_classes": [
        "widget-interact"
       ],
       "children": [
        "IPY_MODEL_5c51036d7eab4b7c8b8aa43c9bcf89eb",
        "IPY_MODEL_3d15c2d04f26496fa9cfe3cfb16b728e",
        "IPY_MODEL_6a35e741c2d74791a72c9a1068949804"
       ],
       "layout": "IPY_MODEL_953923d4df0247508619e48299897035"
      }
     },
     "70f636e1b11144a3968422847d92159e": {
      "model_module": "@jupyter-widgets/controls",
      "model_module_version": "1.5.0",
      "model_name": "SliderStyleModel",
      "state": {
       "description_width": ""
      }
     },
     "718f2f04cc2d417abf24495edc08bd76": {
      "model_module": "@jupyter-widgets/base",
      "model_module_version": "1.2.0",
      "model_name": "LayoutModel",
      "state": {}
     },
     "719a9e545a31428084c3d1f9cddc0ac7": {
      "model_module": "@jupyter-widgets/base",
      "model_module_version": "1.2.0",
      "model_name": "LayoutModel",
      "state": {}
     },
     "72c3f0c6075f44f0b314cb55d555322b": {
      "model_module": "@jupyter-widgets/base",
      "model_module_version": "1.2.0",
      "model_name": "LayoutModel",
      "state": {}
     },
     "75dc594e1f8544bcb5651440a691745e": {
      "model_module": "@jupyter-widgets/controls",
      "model_module_version": "1.5.0",
      "model_name": "DescriptionStyleModel",
      "state": {
       "description_width": ""
      }
     },
     "76888739b49b47229fef4b458612d6e5": {
      "model_module": "@jupyter-widgets/base",
      "model_module_version": "1.2.0",
      "model_name": "LayoutModel",
      "state": {}
     },
     "76a38591f6794e24bb0fdf68a4ba420e": {
      "model_module": "@jupyter-widgets/output",
      "model_module_version": "1.0.0",
      "model_name": "OutputModel",
      "state": {
       "layout": "IPY_MODEL_a5e791dab5c1497cb211ddfea51f51ff",
       "outputs": [
        {
         "data": {
          "text/plain": "40"
         },
         "metadata": {},
         "output_type": "display_data"
        }
       ]
      }
     },
     "76d8af22d6ee42f4a51e24146a19d5cf": {
      "model_module": "@jupyter-widgets/controls",
      "model_module_version": "1.5.0",
      "model_name": "SliderStyleModel",
      "state": {
       "description_width": ""
      }
     },
     "776a8493666e4d90ada4f5f6612939c5": {
      "model_module": "@jupyter-widgets/controls",
      "model_module_version": "1.5.0",
      "model_name": "DescriptionStyleModel",
      "state": {
       "description_width": ""
      }
     },
     "780c98949342461fa2724619ca623b7c": {
      "model_module": "@jupyter-widgets/controls",
      "model_module_version": "1.5.0",
      "model_name": "DescriptionStyleModel",
      "state": {
       "description_width": ""
      }
     },
     "797e03fc3f004ca791fb6b8d978d5183": {
      "model_module": "@jupyter-widgets/controls",
      "model_module_version": "1.5.0",
      "model_name": "ButtonStyleModel",
      "state": {}
     },
     "7a0ad222068c443c80e0ebb31c5fa78d": {
      "model_module": "@jupyter-widgets/controls",
      "model_module_version": "1.5.0",
      "model_name": "DescriptionStyleModel",
      "state": {
       "description_width": ""
      }
     },
     "7acf5bb3a05740168afee2d13458665f": {
      "model_module": "@jupyter-widgets/base",
      "model_module_version": "1.2.0",
      "model_name": "LayoutModel",
      "state": {}
     },
     "7d95d7450d794bbe91b183a7658f23ad": {
      "model_module": "@jupyter-widgets/output",
      "model_module_version": "1.0.0",
      "model_name": "OutputModel",
      "state": {
       "layout": "IPY_MODEL_8efcb459817e4197b64b0aebd210c084"
      }
     },
     "7dadbde40459478fb1b8849ab96627ca": {
      "model_module": "@jupyter-widgets/controls",
      "model_module_version": "1.5.0",
      "model_name": "VBoxModel",
      "state": {
       "_dom_classes": [
        "widget-interact"
       ],
       "children": [
        "IPY_MODEL_10bb0564327446e29942557c077bdc9c",
        "IPY_MODEL_3e30f0fce0d14175a7bb828f656705d1",
        "IPY_MODEL_f74166c424674ad491d68c156e3f77bd"
       ],
       "layout": "IPY_MODEL_704c0d10af254be5a1c8731687a585b8"
      }
     },
     "7e0e225f550644b293a615d7a2656c50": {
      "model_module": "@jupyter-widgets/controls",
      "model_module_version": "1.5.0",
      "model_name": "ButtonStyleModel",
      "state": {}
     },
     "80a0313a613e4a5796cc3a4ad1f24919": {
      "model_module": "@jupyter-widgets/base",
      "model_module_version": "1.2.0",
      "model_name": "LayoutModel",
      "state": {}
     },
     "83fa4bb0f7124a2ab2bf1656ba71d43f": {
      "model_module": "@jupyter-widgets/base",
      "model_module_version": "1.2.0",
      "model_name": "LayoutModel",
      "state": {}
     },
     "88b6e9e6f4b94c1bb6b9d1bf3d6af65c": {
      "model_module": "@jupyter-widgets/output",
      "model_module_version": "1.0.0",
      "model_name": "OutputModel",
      "state": {
       "layout": "IPY_MODEL_c70b06506a8447798b96909af08637de",
       "outputs": [
        {
         "data": {
          "text/plain": "('apple', 56)"
         },
         "metadata": {},
         "output_type": "display_data"
        }
       ]
      }
     },
     "89c70d8bc152485ca1632b46e913a9ad": {
      "model_module": "@jupyter-widgets/base",
      "model_module_version": "1.2.0",
      "model_name": "LayoutModel",
      "state": {}
     },
     "8b44a05b5bd04aea85021570f2b5142c": {
      "model_module": "@jupyter-widgets/base",
      "model_module_version": "1.2.0",
      "model_name": "LayoutModel",
      "state": {}
     },
     "8b589522708d4fea92c04c4087d2729e": {
      "model_module": "@jupyter-widgets/base",
      "model_module_version": "1.2.0",
      "model_name": "LayoutModel",
      "state": {}
     },
     "8c99247b881e47d9963c1f802c72a846": {
      "model_module": "@jupyter-widgets/base",
      "model_module_version": "1.2.0",
      "model_name": "LayoutModel",
      "state": {}
     },
     "8d69c60a4850451f853c770a7541add2": {
      "model_module": "@jupyter-widgets/base",
      "model_module_version": "1.2.0",
      "model_name": "LayoutModel",
      "state": {}
     },
     "8efcb459817e4197b64b0aebd210c084": {
      "model_module": "@jupyter-widgets/base",
      "model_module_version": "1.2.0",
      "model_name": "LayoutModel",
      "state": {}
     },
     "8f2087c2c2534917a48b78cfa6d2d67d": {
      "model_module": "@jupyter-widgets/base",
      "model_module_version": "1.2.0",
      "model_name": "LayoutModel",
      "state": {}
     },
     "8f9e19f1314e46909127755fe8e183d7": {
      "model_module": "@jupyter-widgets/controls",
      "model_module_version": "1.5.0",
      "model_name": "ButtonStyleModel",
      "state": {}
     },
     "908e42f00c2c4865bc5374f5acc3766b": {
      "model_module": "@jupyter-widgets/controls",
      "model_module_version": "1.5.0",
      "model_name": "VBoxModel",
      "state": {
       "_dom_classes": [
        "widget-interact"
       ],
       "children": [
        "IPY_MODEL_64db66e65b6349ba976c11fed2d7dfa1",
        "IPY_MODEL_21b0d938a9fe4a81a1f3874d4e8c5858"
       ],
       "layout": "IPY_MODEL_4f7d75b87909496dbe4b8ab52f09cc12"
      }
     },
     "92310f7060f04495ad09f09349df6dc4": {
      "model_module": "@jupyter-widgets/controls",
      "model_module_version": "1.5.0",
      "model_name": "SliderStyleModel",
      "state": {
       "description_width": ""
      }
     },
     "93554065ebb24cf0aaf294dbb9032205": {
      "model_module": "@jupyter-widgets/controls",
      "model_module_version": "1.5.0",
      "model_name": "SliderStyleModel",
      "state": {
       "description_width": ""
      }
     },
     "94e0d672ec1c4e0cb4aa4ee2486bb24f": {
      "model_module": "@jupyter-widgets/base",
      "model_module_version": "1.2.0",
      "model_name": "LayoutModel",
      "state": {}
     },
     "953923d4df0247508619e48299897035": {
      "model_module": "@jupyter-widgets/base",
      "model_module_version": "1.2.0",
      "model_name": "LayoutModel",
      "state": {}
     },
     "994d3ce8c9744187827a2619fc9e667d": {
      "model_module": "@jupyter-widgets/controls",
      "model_module_version": "1.5.0",
      "model_name": "IntSliderModel",
      "state": {
       "description": "num",
       "layout": "IPY_MODEL_482ea31b00d24369915d4675ce7f6060",
       "max": 150,
       "min": -50,
       "style": "IPY_MODEL_0c24d5cbebfa4c3ea4cb9700e9c6e8ca",
       "value": -6
      }
     },
     "997293b7a03d4232a9f76021a1c80377": {
      "model_module": "@jupyter-widgets/controls",
      "model_module_version": "1.5.0",
      "model_name": "VBoxModel",
      "state": {
       "_dom_classes": [
        "widget-interact"
       ],
       "children": [
        "IPY_MODEL_ea660ccf20684f5d87f8bd7bddd43c2a",
        "IPY_MODEL_76a38591f6794e24bb0fdf68a4ba420e"
       ],
       "layout": "IPY_MODEL_d61a0acea2da471c9bcf934250cbac69"
      }
     },
     "99ed234e2c034e8e8e39702f4dfd4f3a": {
      "model_module": "@jupyter-widgets/controls",
      "model_module_version": "1.5.0",
      "model_name": "SliderStyleModel",
      "state": {
       "description_width": ""
      }
     },
     "a0d529d109fd401a9346d51455fc999f": {
      "model_module": "@jupyter-widgets/controls",
      "model_module_version": "1.5.0",
      "model_name": "SliderStyleModel",
      "state": {
       "description_width": ""
      }
     },
     "a1053365cc88474c970364413ed338f0": {
      "model_module": "@jupyter-widgets/base",
      "model_module_version": "1.2.0",
      "model_name": "LayoutModel",
      "state": {}
     },
     "a1dc41ad82ff46caa28e84dc8fa07adc": {
      "model_module": "@jupyter-widgets/base",
      "model_module_version": "1.2.0",
      "model_name": "LayoutModel",
      "state": {}
     },
     "a3c7314b38444c448aac7a7236b47207": {
      "model_module": "@jupyter-widgets/controls",
      "model_module_version": "1.5.0",
      "model_name": "VBoxModel",
      "state": {
       "_dom_classes": [
        "widget-interact"
       ],
       "children": [
        "IPY_MODEL_47c7df06e8e94f1e8e76f3dffd1c1a5c",
        "IPY_MODEL_ba0df4defb7f471fb30497b83954b295",
        "IPY_MODEL_060a62e127604df989753f52dfad9e41"
       ],
       "layout": "IPY_MODEL_68896a38de8f4dadaf9942ecc1a04aa9"
      }
     },
     "a5e791dab5c1497cb211ddfea51f51ff": {
      "model_module": "@jupyter-widgets/base",
      "model_module_version": "1.2.0",
      "model_name": "LayoutModel",
      "state": {}
     },
     "ac963fe8e00b4e369606bb2c8d2e7c56": {
      "model_module": "@jupyter-widgets/base",
      "model_module_version": "1.2.0",
      "model_name": "LayoutModel",
      "state": {}
     },
     "ad3f8bc83e014db790584e080ce5871a": {
      "model_module": "@jupyter-widgets/controls",
      "model_module_version": "1.5.0",
      "model_name": "ButtonStyleModel",
      "state": {}
     },
     "ae966fea456d45e2a801c3aba89b049a": {
      "model_module": "@jupyter-widgets/base",
      "model_module_version": "1.2.0",
      "model_name": "LayoutModel",
      "state": {}
     },
     "b121ffe725354af2929d851654924ad2": {
      "model_module": "@jupyter-widgets/base",
      "model_module_version": "1.2.0",
      "model_name": "LayoutModel",
      "state": {}
     },
     "b1871cc498564f059a1615fbb56fc7ac": {
      "model_module": "@jupyter-widgets/base",
      "model_module_version": "1.2.0",
      "model_name": "LayoutModel",
      "state": {}
     },
     "b50d15f9e71a40568ecaa526a9936fab": {
      "model_module": "@jupyter-widgets/base",
      "model_module_version": "1.2.0",
      "model_name": "LayoutModel",
      "state": {}
     },
     "b68be128c62e4adfa365011fc107358f": {
      "model_module": "@jupyter-widgets/controls",
      "model_module_version": "1.5.0",
      "model_name": "DropdownModel",
      "state": {
       "_options_labels": [
        "five",
        "twenty"
       ],
       "description": "num",
       "index": 1,
       "layout": "IPY_MODEL_163b5a2de6fb41dcb80b27ceba2ffee0",
       "style": "IPY_MODEL_51d18b7f90da46ffb618ba6fb5b1b08c"
      }
     },
     "b6e33092b0a14ca8897073f064b915a5": {
      "model_module": "@jupyter-widgets/controls",
      "model_module_version": "1.5.0",
      "model_name": "SliderStyleModel",
      "state": {
       "description_width": ""
      }
     },
     "b7d126d9378744fa9a4f1f75aef00c22": {
      "model_module": "@jupyter-widgets/controls",
      "model_module_version": "1.5.0",
      "model_name": "DescriptionStyleModel",
      "state": {
       "description_width": ""
      }
     },
     "b8269cfe0df54fea89fa1ef7d8b2b961": {
      "model_module": "@jupyter-widgets/controls",
      "model_module_version": "1.5.0",
      "model_name": "VBoxModel",
      "state": {
       "_dom_classes": [
        "widget-interact"
       ],
       "children": [
        "IPY_MODEL_da595b5f613a41d19bfe33b85d4cdfcd",
        "IPY_MODEL_424084f3774040498e4eb1db194abe73",
        "IPY_MODEL_214c9732e63943efb8f13c5edb57b86b"
       ],
       "layout": "IPY_MODEL_6787638483194a488026f9599fc44bab"
      }
     },
     "b9aa79e40b864a0dbbd111d56ac89733": {
      "model_module": "@jupyter-widgets/controls",
      "model_module_version": "1.5.0",
      "model_name": "ButtonStyleModel",
      "state": {}
     },
     "ba0df4defb7f471fb30497b83954b295": {
      "model_module": "@jupyter-widgets/controls",
      "model_module_version": "1.5.0",
      "model_name": "ButtonModel",
      "state": {
       "description": "Run Interact",
       "layout": "IPY_MODEL_6eee1e770e3d41829f8e2bf7188f4c30",
       "style": "IPY_MODEL_1247c3d51aa44b89b3474bb892988a22"
      }
     },
     "ba17cdadd1c04f22a5483a0a7496d093": {
      "model_module": "@jupyter-widgets/base",
      "model_module_version": "1.2.0",
      "model_name": "LayoutModel",
      "state": {}
     },
     "bb762bae4d3249ffa6cb7cfb5eea5156": {
      "model_module": "@jupyter-widgets/controls",
      "model_module_version": "1.5.0",
      "model_name": "SliderStyleModel",
      "state": {
       "description_width": ""
      }
     },
     "bda06bbd150846f592d8289e3f130c1d": {
      "model_module": "@jupyter-widgets/output",
      "model_module_version": "1.0.0",
      "model_name": "OutputModel",
      "state": {
       "layout": "IPY_MODEL_14fb6bb115c34949be6a38cd40554629",
       "outputs": [
        {
         "data": {
          "text/plain": "(5, 20)"
         },
         "metadata": {},
         "output_type": "display_data"
        }
       ]
      }
     },
     "bdebd98a54fe452c8ee877cadde532b2": {
      "model_module": "@jupyter-widgets/controls",
      "model_module_version": "1.5.0",
      "model_name": "VBoxModel",
      "state": {
       "_dom_classes": [
        "widget-interact"
       ],
       "children": [
        "IPY_MODEL_5935f61f48d7477298f420c9786fdab9",
        "IPY_MODEL_bda06bbd150846f592d8289e3f130c1d"
       ],
       "layout": "IPY_MODEL_bec0143aadf44bbe9a252fd1463e0909"
      }
     },
     "bec0143aadf44bbe9a252fd1463e0909": {
      "model_module": "@jupyter-widgets/base",
      "model_module_version": "1.2.0",
      "model_name": "LayoutModel",
      "state": {}
     },
     "bfdef127a90b4f4c8db051650e6e31eb": {
      "model_module": "@jupyter-widgets/output",
      "model_module_version": "1.0.0",
      "model_name": "OutputModel",
      "state": {
       "layout": "IPY_MODEL_8c99247b881e47d9963c1f802c72a846",
       "outputs": [
        {
         "data": {
          "text/plain": "40"
         },
         "metadata": {},
         "output_type": "display_data"
        }
       ]
      }
     },
     "c03cb6fe4bed4b1190fecd237fec8531": {
      "model_module": "@jupyter-widgets/controls",
      "model_module_version": "1.5.0",
      "model_name": "IntSliderModel",
      "state": {
       "description": "h",
       "layout": "IPY_MODEL_5a960de3a87f4170bf53f0a2bb0cdd63",
       "max": 15,
       "min": -5,
       "style": "IPY_MODEL_76d8af22d6ee42f4a51e24146a19d5cf",
       "value": -3
      }
     },
     "c23c97a4bb044a1a9cbaf02f66c00ea0": {
      "model_module": "@jupyter-widgets/controls",
      "model_module_version": "1.5.0",
      "model_name": "IntSliderModel",
      "state": {
       "description": "h",
       "layout": "IPY_MODEL_edc4e0cc80e0472b80898f44c16e93e2",
       "max": 15,
       "min": -5,
       "style": "IPY_MODEL_704272320ffb4f76ac3ddab743ee1426",
       "value": 5
      }
     },
     "c63a4200b8ba4dd5ba5f9c3af7e35cd4": {
      "model_module": "@jupyter-widgets/controls",
      "model_module_version": "1.5.0",
      "model_name": "DropdownModel",
      "state": {
       "_options_labels": [
        "apple",
        "orange",
        "pineapple"
       ],
       "description": "choices",
       "index": 0,
       "layout": "IPY_MODEL_ba17cdadd1c04f22a5483a0a7496d093",
       "style": "IPY_MODEL_75dc594e1f8544bcb5651440a691745e"
      }
     },
     "c665326c2c7c42f7933faf7a9af486ac": {
      "model_module": "@jupyter-widgets/controls",
      "model_module_version": "1.5.0",
      "model_name": "DropdownModel",
      "state": {
       "_options_labels": [
        "apple",
        "orange",
        "pineapple"
       ],
       "description": "choices",
       "index": 1,
       "layout": "IPY_MODEL_ac963fe8e00b4e369606bb2c8d2e7c56",
       "style": "IPY_MODEL_7a0ad222068c443c80e0ebb31c5fa78d"
      }
     },
     "c70b06506a8447798b96909af08637de": {
      "model_module": "@jupyter-widgets/base",
      "model_module_version": "1.2.0",
      "model_name": "LayoutModel",
      "state": {}
     },
     "c9eeec18c6af422b8aa1546e8133b05b": {
      "model_module": "@jupyter-widgets/base",
      "model_module_version": "1.2.0",
      "model_name": "LayoutModel",
      "state": {}
     },
     "cb848bedc46b4a3dbf94146d88f17f60": {
      "model_module": "@jupyter-widgets/base",
      "model_module_version": "1.2.0",
      "model_name": "LayoutModel",
      "state": {}
     },
     "cc8056146b4f489b88cf8dbb97bb719f": {
      "model_module": "@jupyter-widgets/controls",
      "model_module_version": "1.5.0",
      "model_name": "ButtonStyleModel",
      "state": {}
     },
     "d2eedd43fb4440128646d2666712afb2": {
      "model_module": "@jupyter-widgets/controls",
      "model_module_version": "1.5.0",
      "model_name": "IntSliderModel",
      "state": {
       "description": "h",
       "layout": "IPY_MODEL_2411626c36b841f6b43295b100e95822",
       "max": 15,
       "min": -5,
       "style": "IPY_MODEL_99ed234e2c034e8e8e39702f4dfd4f3a",
       "value": 5
      }
     },
     "d375616928b546c78ffb243a58a70a7f": {
      "model_module": "@jupyter-widgets/output",
      "model_module_version": "1.0.0",
      "model_name": "OutputModel",
      "state": {
       "layout": "IPY_MODEL_a1dc41ad82ff46caa28e84dc8fa07adc"
      }
     },
     "d390eca86e874fb7a269c89fb225e971": {
      "model_module": "@jupyter-widgets/controls",
      "model_module_version": "1.5.0",
      "model_name": "LinkModel",
      "state": {
       "source": [
        "IPY_MODEL_46b5ea51f09e4784a4722c47d6eadbaa",
        "value"
       ],
       "target": [
        "IPY_MODEL_5adb10d8c4144da78e9d9089b97d3767",
        "value"
       ]
      }
     },
     "d463758f230a47a29aec981d08a3092c": {
      "model_module": "@jupyter-widgets/controls",
      "model_module_version": "1.5.0",
      "model_name": "VBoxModel",
      "state": {
       "_dom_classes": [
        "widget-interact"
       ],
       "children": [
        "IPY_MODEL_c665326c2c7c42f7933faf7a9af486ac",
        "IPY_MODEL_994d3ce8c9744187827a2619fc9e667d",
        "IPY_MODEL_1b4ccdd2e4b541e8ac9c024495fd3f28"
       ],
       "layout": "IPY_MODEL_719a9e545a31428084c3d1f9cddc0ac7"
      }
     },
     "d5918d86d84c4b3d83d28ac7bf4f6bff": {
      "model_module": "@jupyter-widgets/controls",
      "model_module_version": "1.5.0",
      "model_name": "ButtonModel",
      "state": {
       "description": "Run Interact",
       "layout": "IPY_MODEL_b121ffe725354af2929d851654924ad2",
       "style": "IPY_MODEL_69c61cec24e94bf98ca1871314b20f2b"
      }
     },
     "d61a0acea2da471c9bcf934250cbac69": {
      "model_module": "@jupyter-widgets/base",
      "model_module_version": "1.2.0",
      "model_name": "LayoutModel",
      "state": {}
     },
     "da3dccb40fcf442cb385274097c6b948": {
      "model_module": "@jupyter-widgets/controls",
      "model_module_version": "1.5.0",
      "model_name": "VBoxModel",
      "state": {
       "_dom_classes": [
        "widget-interact"
       ],
       "children": [
        "IPY_MODEL_d2eedd43fb4440128646d2666712afb2",
        "IPY_MODEL_65465c79fadb4dd78fb0663894c50cac",
        "IPY_MODEL_7d95d7450d794bbe91b183a7658f23ad"
       ],
       "layout": "IPY_MODEL_cb848bedc46b4a3dbf94146d88f17f60"
      }
     },
     "da595b5f613a41d19bfe33b85d4cdfcd": {
      "model_module": "@jupyter-widgets/controls",
      "model_module_version": "1.5.0",
      "model_name": "IntSliderModel",
      "state": {
       "description": "h",
       "layout": "IPY_MODEL_66d03d97ad2343648fb9af67380d8b28",
       "max": 15,
       "min": -5,
       "style": "IPY_MODEL_13e05d18b41f4c1ab934717c5e892510",
       "value": 11
      }
     },
     "dba29500a600440e8d6eca7bbeb1864f": {
      "model_module": "@jupyter-widgets/controls",
      "model_module_version": "1.5.0",
      "model_name": "VBoxModel",
      "state": {
       "_dom_classes": [
        "widget-interact"
       ],
       "children": [
        "IPY_MODEL_311985a7d3dc4335ba8fa7b8bafe8e7b",
        "IPY_MODEL_ee1eff620de14fdcbe828e35c5299ef6",
        "IPY_MODEL_16d8d4041b1244839a89f21c5e9e5cd4"
       ],
       "layout": "IPY_MODEL_8b44a05b5bd04aea85021570f2b5142c"
      }
     },
     "dfdda3bca2bc4be5aee4ed27f5a55054": {
      "model_module": "@jupyter-widgets/base",
      "model_module_version": "1.2.0",
      "model_name": "LayoutModel",
      "state": {}
     },
     "e066c76a357f4364a475747677c831cb": {
      "model_module": "@jupyter-widgets/base",
      "model_module_version": "1.2.0",
      "model_name": "LayoutModel",
      "state": {}
     },
     "e33da6a2181a4fc089c00dfe5dbd677f": {
      "model_module": "@jupyter-widgets/controls",
      "model_module_version": "1.5.0",
      "model_name": "DescriptionStyleModel",
      "state": {
       "description_width": ""
      }
     },
     "e86d9a5f728f44178420aa69288a2f7c": {
      "model_module": "@jupyter-widgets/base",
      "model_module_version": "1.2.0",
      "model_name": "LayoutModel",
      "state": {}
     },
     "ea15b8ce95064114acc8b586ee351e46": {
      "model_module": "@jupyter-widgets/controls",
      "model_module_version": "1.5.0",
      "model_name": "VBoxModel",
      "state": {
       "_dom_classes": [
        "widget-interact"
       ],
       "children": [
        "IPY_MODEL_0d616a4a6c5b4f59ac46ddb14a29f846",
        "IPY_MODEL_66cccde0919f4e7fbbb3e6c7b83496c9",
        "IPY_MODEL_f3b93c317ec941c09f25b9d933329184"
       ],
       "layout": "IPY_MODEL_8d69c60a4850451f853c770a7541add2"
      }
     },
     "ea660ccf20684f5d87f8bd7bddd43c2a": {
      "model_module": "@jupyter-widgets/controls",
      "model_module_version": "1.5.0",
      "model_name": "DropdownModel",
      "state": {
       "_options_labels": [
        "ten",
        "twenty"
       ],
       "description": "num",
       "index": 1,
       "layout": "IPY_MODEL_170adaa3953349f485c6a1f18da72c11",
       "style": "IPY_MODEL_e33da6a2181a4fc089c00dfe5dbd677f"
      }
     },
     "eb06c331aa4f4ee0b4c787b3568126c9": {
      "model_module": "@jupyter-widgets/controls",
      "model_module_version": "1.5.0",
      "model_name": "SliderStyleModel",
      "state": {
       "description_width": ""
      }
     },
     "edc4e0cc80e0472b80898f44c16e93e2": {
      "model_module": "@jupyter-widgets/base",
      "model_module_version": "1.2.0",
      "model_name": "LayoutModel",
      "state": {}
     },
     "ee1eff620de14fdcbe828e35c5299ef6": {
      "model_module": "@jupyter-widgets/controls",
      "model_module_version": "1.5.0",
      "model_name": "ButtonModel",
      "state": {
       "description": "Run Interact",
       "layout": "IPY_MODEL_94e0d672ec1c4e0cb4aa4ee2486bb24f",
       "style": "IPY_MODEL_b9aa79e40b864a0dbbd111d56ac89733"
      }
     },
     "f0253141381b4e7394d3013739798dbd": {
      "model_module": "@jupyter-widgets/controls",
      "model_module_version": "1.5.0",
      "model_name": "VBoxModel",
      "state": {
       "_dom_classes": [
        "widget-interact"
       ],
       "children": [
        "IPY_MODEL_085684a9e08647178efcb6a8d6855a52",
        "IPY_MODEL_176b3207f20a465d959aa6161830d340",
        "IPY_MODEL_d375616928b546c78ffb243a58a70a7f"
       ],
       "layout": "IPY_MODEL_80a0313a613e4a5796cc3a4ad1f24919"
      }
     },
     "f3b93c317ec941c09f25b9d933329184": {
      "model_module": "@jupyter-widgets/output",
      "model_module_version": "1.0.0",
      "model_name": "OutputModel",
      "state": {
       "layout": "IPY_MODEL_29c6ef3769254fa6a1597b3a4b3f2536"
      }
     },
     "f74166c424674ad491d68c156e3f77bd": {
      "model_module": "@jupyter-widgets/output",
      "model_module_version": "1.0.0",
      "model_name": "OutputModel",
      "state": {
       "layout": "IPY_MODEL_718f2f04cc2d417abf24495edc08bd76"
      }
     },
     "f7760a3e3700449a83178832ec9fb45c": {
      "model_module": "@jupyter-widgets/controls",
      "model_module_version": "1.5.0",
      "model_name": "VBoxModel",
      "state": {
       "_dom_classes": [
        "widget-interact"
       ],
       "children": [
        "IPY_MODEL_c03cb6fe4bed4b1190fecd237fec8531",
        "IPY_MODEL_6cc496bc46a54f1888eb930645f611da",
        "IPY_MODEL_0963d5b2b849483d983bcb0696e8db9d"
       ],
       "layout": "IPY_MODEL_e86d9a5f728f44178420aa69288a2f7c"
      }
     },
     "f90da747d707400da56ee30d065f9ab7": {
      "model_module": "@jupyter-widgets/base",
      "model_module_version": "1.2.0",
      "model_name": "LayoutModel",
      "state": {}
     },
     "f9e093ae181a4fe9a0c6476b9f46a4ac": {
      "model_module": "@jupyter-widgets/controls",
      "model_module_version": "1.5.0",
      "model_name": "VBoxModel",
      "state": {
       "_dom_classes": [
        "widget-interact"
       ],
       "children": [
        "IPY_MODEL_4cee6f895c484f9c8afae63cdcb98c93",
        "IPY_MODEL_3c2a2fe2189e46dd97a8c114474638da"
       ],
       "layout": "IPY_MODEL_f90da747d707400da56ee30d065f9ab7"
      }
     },
     "fbc5792ae04548b0b72ce37f78acbc42": {
      "model_module": "@jupyter-widgets/controls",
      "model_module_version": "1.5.0",
      "model_name": "ButtonStyleModel",
      "state": {}
     },
     "fc3a94304fe6434db412f1bf57032264": {
      "model_module": "@jupyter-widgets/base",
      "model_module_version": "1.2.0",
      "model_name": "LayoutModel",
      "state": {}
     },
     "fd58c1945a3740c4b00bb4d10f8a560f": {
      "model_module": "@jupyter-widgets/controls",
      "model_module_version": "1.5.0",
      "model_name": "SliderStyleModel",
      "state": {
       "description_width": ""
      }
     },
     "fd836a1921974810bb975f48620ad578": {
      "model_module": "@jupyter-widgets/controls",
      "model_module_version": "1.5.0",
      "model_name": "FloatTextModel",
      "state": {
       "layout": "IPY_MODEL_48b055b4abe44e088cff692f08e78f5c",
       "step": null,
       "style": "IPY_MODEL_278c65fe57b6490cbc44a69de172b396",
       "value": 25.5
      }
     }
    },
    "version_major": 2,
    "version_minor": 0
   }
  }
 },
 "nbformat": 4,
 "nbformat_minor": 2
}
